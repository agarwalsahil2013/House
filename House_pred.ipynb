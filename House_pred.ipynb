{
 "cells": [
  {
   "cell_type": "code",
   "execution_count": 1,
   "metadata": {},
   "outputs": [],
   "source": [
    "# Importing libraries\n",
    "import pandas as pd\n",
    "import numpy as np\n",
    "import matplotlib.pyplot as plt\n",
    "import math\n",
    "pd.set_option('max_columns',100)"
   ]
  },
  {
   "cell_type": "code",
   "execution_count": 2,
   "metadata": {},
   "outputs": [
    {
     "data": {
      "text/html": [
       "<div>\n",
       "<style scoped>\n",
       "    .dataframe tbody tr th:only-of-type {\n",
       "        vertical-align: middle;\n",
       "    }\n",
       "\n",
       "    .dataframe tbody tr th {\n",
       "        vertical-align: top;\n",
       "    }\n",
       "\n",
       "    .dataframe thead th {\n",
       "        text-align: right;\n",
       "    }\n",
       "</style>\n",
       "<table border=\"1\" class=\"dataframe\">\n",
       "  <thead>\n",
       "    <tr style=\"text-align: right;\">\n",
       "      <th></th>\n",
       "      <th>Id</th>\n",
       "      <th>MSSubClass</th>\n",
       "      <th>MSZoning</th>\n",
       "      <th>LotFrontage</th>\n",
       "      <th>LotArea</th>\n",
       "      <th>Street</th>\n",
       "      <th>Alley</th>\n",
       "      <th>LotShape</th>\n",
       "      <th>LandContour</th>\n",
       "      <th>Utilities</th>\n",
       "      <th>LotConfig</th>\n",
       "      <th>LandSlope</th>\n",
       "      <th>Neighborhood</th>\n",
       "      <th>Condition1</th>\n",
       "      <th>Condition2</th>\n",
       "      <th>BldgType</th>\n",
       "      <th>HouseStyle</th>\n",
       "      <th>OverallQual</th>\n",
       "      <th>OverallCond</th>\n",
       "      <th>YearBuilt</th>\n",
       "      <th>YearRemodAdd</th>\n",
       "      <th>RoofStyle</th>\n",
       "      <th>RoofMatl</th>\n",
       "      <th>Exterior1st</th>\n",
       "      <th>Exterior2nd</th>\n",
       "      <th>MasVnrType</th>\n",
       "      <th>MasVnrArea</th>\n",
       "      <th>ExterQual</th>\n",
       "      <th>ExterCond</th>\n",
       "      <th>Foundation</th>\n",
       "      <th>BsmtQual</th>\n",
       "      <th>BsmtCond</th>\n",
       "      <th>BsmtExposure</th>\n",
       "      <th>BsmtFinType1</th>\n",
       "      <th>BsmtFinSF1</th>\n",
       "      <th>BsmtFinType2</th>\n",
       "      <th>BsmtFinSF2</th>\n",
       "      <th>BsmtUnfSF</th>\n",
       "      <th>TotalBsmtSF</th>\n",
       "      <th>Heating</th>\n",
       "      <th>HeatingQC</th>\n",
       "      <th>CentralAir</th>\n",
       "      <th>Electrical</th>\n",
       "      <th>1stFlrSF</th>\n",
       "      <th>2ndFlrSF</th>\n",
       "      <th>LowQualFinSF</th>\n",
       "      <th>GrLivArea</th>\n",
       "      <th>BsmtFullBath</th>\n",
       "      <th>BsmtHalfBath</th>\n",
       "      <th>FullBath</th>\n",
       "      <th>HalfBath</th>\n",
       "      <th>BedroomAbvGr</th>\n",
       "      <th>KitchenAbvGr</th>\n",
       "      <th>KitchenQual</th>\n",
       "      <th>TotRmsAbvGrd</th>\n",
       "      <th>Functional</th>\n",
       "      <th>Fireplaces</th>\n",
       "      <th>FireplaceQu</th>\n",
       "      <th>GarageType</th>\n",
       "      <th>GarageYrBlt</th>\n",
       "      <th>GarageFinish</th>\n",
       "      <th>GarageCars</th>\n",
       "      <th>GarageArea</th>\n",
       "      <th>GarageQual</th>\n",
       "      <th>GarageCond</th>\n",
       "      <th>PavedDrive</th>\n",
       "      <th>WoodDeckSF</th>\n",
       "      <th>OpenPorchSF</th>\n",
       "      <th>EnclosedPorch</th>\n",
       "      <th>3SsnPorch</th>\n",
       "      <th>ScreenPorch</th>\n",
       "      <th>PoolArea</th>\n",
       "      <th>PoolQC</th>\n",
       "      <th>Fence</th>\n",
       "      <th>MiscFeature</th>\n",
       "      <th>MiscVal</th>\n",
       "      <th>MoSold</th>\n",
       "      <th>YrSold</th>\n",
       "      <th>SaleType</th>\n",
       "      <th>SaleCondition</th>\n",
       "      <th>SalePrice</th>\n",
       "    </tr>\n",
       "  </thead>\n",
       "  <tbody>\n",
       "    <tr>\n",
       "      <th>0</th>\n",
       "      <td>1</td>\n",
       "      <td>60</td>\n",
       "      <td>RL</td>\n",
       "      <td>65.0</td>\n",
       "      <td>8450</td>\n",
       "      <td>Pave</td>\n",
       "      <td>NaN</td>\n",
       "      <td>Reg</td>\n",
       "      <td>Lvl</td>\n",
       "      <td>AllPub</td>\n",
       "      <td>Inside</td>\n",
       "      <td>Gtl</td>\n",
       "      <td>CollgCr</td>\n",
       "      <td>Norm</td>\n",
       "      <td>Norm</td>\n",
       "      <td>1Fam</td>\n",
       "      <td>2Story</td>\n",
       "      <td>7</td>\n",
       "      <td>5</td>\n",
       "      <td>2003</td>\n",
       "      <td>2003</td>\n",
       "      <td>Gable</td>\n",
       "      <td>CompShg</td>\n",
       "      <td>VinylSd</td>\n",
       "      <td>VinylSd</td>\n",
       "      <td>BrkFace</td>\n",
       "      <td>196.0</td>\n",
       "      <td>Gd</td>\n",
       "      <td>TA</td>\n",
       "      <td>PConc</td>\n",
       "      <td>Gd</td>\n",
       "      <td>TA</td>\n",
       "      <td>No</td>\n",
       "      <td>GLQ</td>\n",
       "      <td>706</td>\n",
       "      <td>Unf</td>\n",
       "      <td>0</td>\n",
       "      <td>150</td>\n",
       "      <td>856</td>\n",
       "      <td>GasA</td>\n",
       "      <td>Ex</td>\n",
       "      <td>Y</td>\n",
       "      <td>SBrkr</td>\n",
       "      <td>856</td>\n",
       "      <td>854</td>\n",
       "      <td>0</td>\n",
       "      <td>1710</td>\n",
       "      <td>1</td>\n",
       "      <td>0</td>\n",
       "      <td>2</td>\n",
       "      <td>1</td>\n",
       "      <td>3</td>\n",
       "      <td>1</td>\n",
       "      <td>Gd</td>\n",
       "      <td>8</td>\n",
       "      <td>Typ</td>\n",
       "      <td>0</td>\n",
       "      <td>NaN</td>\n",
       "      <td>Attchd</td>\n",
       "      <td>2003.0</td>\n",
       "      <td>RFn</td>\n",
       "      <td>2</td>\n",
       "      <td>548</td>\n",
       "      <td>TA</td>\n",
       "      <td>TA</td>\n",
       "      <td>Y</td>\n",
       "      <td>0</td>\n",
       "      <td>61</td>\n",
       "      <td>0</td>\n",
       "      <td>0</td>\n",
       "      <td>0</td>\n",
       "      <td>0</td>\n",
       "      <td>NaN</td>\n",
       "      <td>NaN</td>\n",
       "      <td>NaN</td>\n",
       "      <td>0</td>\n",
       "      <td>2</td>\n",
       "      <td>2008</td>\n",
       "      <td>WD</td>\n",
       "      <td>Normal</td>\n",
       "      <td>208500</td>\n",
       "    </tr>\n",
       "    <tr>\n",
       "      <th>1</th>\n",
       "      <td>2</td>\n",
       "      <td>20</td>\n",
       "      <td>RL</td>\n",
       "      <td>80.0</td>\n",
       "      <td>9600</td>\n",
       "      <td>Pave</td>\n",
       "      <td>NaN</td>\n",
       "      <td>Reg</td>\n",
       "      <td>Lvl</td>\n",
       "      <td>AllPub</td>\n",
       "      <td>FR2</td>\n",
       "      <td>Gtl</td>\n",
       "      <td>Veenker</td>\n",
       "      <td>Feedr</td>\n",
       "      <td>Norm</td>\n",
       "      <td>1Fam</td>\n",
       "      <td>1Story</td>\n",
       "      <td>6</td>\n",
       "      <td>8</td>\n",
       "      <td>1976</td>\n",
       "      <td>1976</td>\n",
       "      <td>Gable</td>\n",
       "      <td>CompShg</td>\n",
       "      <td>MetalSd</td>\n",
       "      <td>MetalSd</td>\n",
       "      <td>None</td>\n",
       "      <td>0.0</td>\n",
       "      <td>TA</td>\n",
       "      <td>TA</td>\n",
       "      <td>CBlock</td>\n",
       "      <td>Gd</td>\n",
       "      <td>TA</td>\n",
       "      <td>Gd</td>\n",
       "      <td>ALQ</td>\n",
       "      <td>978</td>\n",
       "      <td>Unf</td>\n",
       "      <td>0</td>\n",
       "      <td>284</td>\n",
       "      <td>1262</td>\n",
       "      <td>GasA</td>\n",
       "      <td>Ex</td>\n",
       "      <td>Y</td>\n",
       "      <td>SBrkr</td>\n",
       "      <td>1262</td>\n",
       "      <td>0</td>\n",
       "      <td>0</td>\n",
       "      <td>1262</td>\n",
       "      <td>0</td>\n",
       "      <td>1</td>\n",
       "      <td>2</td>\n",
       "      <td>0</td>\n",
       "      <td>3</td>\n",
       "      <td>1</td>\n",
       "      <td>TA</td>\n",
       "      <td>6</td>\n",
       "      <td>Typ</td>\n",
       "      <td>1</td>\n",
       "      <td>TA</td>\n",
       "      <td>Attchd</td>\n",
       "      <td>1976.0</td>\n",
       "      <td>RFn</td>\n",
       "      <td>2</td>\n",
       "      <td>460</td>\n",
       "      <td>TA</td>\n",
       "      <td>TA</td>\n",
       "      <td>Y</td>\n",
       "      <td>298</td>\n",
       "      <td>0</td>\n",
       "      <td>0</td>\n",
       "      <td>0</td>\n",
       "      <td>0</td>\n",
       "      <td>0</td>\n",
       "      <td>NaN</td>\n",
       "      <td>NaN</td>\n",
       "      <td>NaN</td>\n",
       "      <td>0</td>\n",
       "      <td>5</td>\n",
       "      <td>2007</td>\n",
       "      <td>WD</td>\n",
       "      <td>Normal</td>\n",
       "      <td>181500</td>\n",
       "    </tr>\n",
       "    <tr>\n",
       "      <th>2</th>\n",
       "      <td>3</td>\n",
       "      <td>60</td>\n",
       "      <td>RL</td>\n",
       "      <td>68.0</td>\n",
       "      <td>11250</td>\n",
       "      <td>Pave</td>\n",
       "      <td>NaN</td>\n",
       "      <td>IR1</td>\n",
       "      <td>Lvl</td>\n",
       "      <td>AllPub</td>\n",
       "      <td>Inside</td>\n",
       "      <td>Gtl</td>\n",
       "      <td>CollgCr</td>\n",
       "      <td>Norm</td>\n",
       "      <td>Norm</td>\n",
       "      <td>1Fam</td>\n",
       "      <td>2Story</td>\n",
       "      <td>7</td>\n",
       "      <td>5</td>\n",
       "      <td>2001</td>\n",
       "      <td>2002</td>\n",
       "      <td>Gable</td>\n",
       "      <td>CompShg</td>\n",
       "      <td>VinylSd</td>\n",
       "      <td>VinylSd</td>\n",
       "      <td>BrkFace</td>\n",
       "      <td>162.0</td>\n",
       "      <td>Gd</td>\n",
       "      <td>TA</td>\n",
       "      <td>PConc</td>\n",
       "      <td>Gd</td>\n",
       "      <td>TA</td>\n",
       "      <td>Mn</td>\n",
       "      <td>GLQ</td>\n",
       "      <td>486</td>\n",
       "      <td>Unf</td>\n",
       "      <td>0</td>\n",
       "      <td>434</td>\n",
       "      <td>920</td>\n",
       "      <td>GasA</td>\n",
       "      <td>Ex</td>\n",
       "      <td>Y</td>\n",
       "      <td>SBrkr</td>\n",
       "      <td>920</td>\n",
       "      <td>866</td>\n",
       "      <td>0</td>\n",
       "      <td>1786</td>\n",
       "      <td>1</td>\n",
       "      <td>0</td>\n",
       "      <td>2</td>\n",
       "      <td>1</td>\n",
       "      <td>3</td>\n",
       "      <td>1</td>\n",
       "      <td>Gd</td>\n",
       "      <td>6</td>\n",
       "      <td>Typ</td>\n",
       "      <td>1</td>\n",
       "      <td>TA</td>\n",
       "      <td>Attchd</td>\n",
       "      <td>2001.0</td>\n",
       "      <td>RFn</td>\n",
       "      <td>2</td>\n",
       "      <td>608</td>\n",
       "      <td>TA</td>\n",
       "      <td>TA</td>\n",
       "      <td>Y</td>\n",
       "      <td>0</td>\n",
       "      <td>42</td>\n",
       "      <td>0</td>\n",
       "      <td>0</td>\n",
       "      <td>0</td>\n",
       "      <td>0</td>\n",
       "      <td>NaN</td>\n",
       "      <td>NaN</td>\n",
       "      <td>NaN</td>\n",
       "      <td>0</td>\n",
       "      <td>9</td>\n",
       "      <td>2008</td>\n",
       "      <td>WD</td>\n",
       "      <td>Normal</td>\n",
       "      <td>223500</td>\n",
       "    </tr>\n",
       "    <tr>\n",
       "      <th>3</th>\n",
       "      <td>4</td>\n",
       "      <td>70</td>\n",
       "      <td>RL</td>\n",
       "      <td>60.0</td>\n",
       "      <td>9550</td>\n",
       "      <td>Pave</td>\n",
       "      <td>NaN</td>\n",
       "      <td>IR1</td>\n",
       "      <td>Lvl</td>\n",
       "      <td>AllPub</td>\n",
       "      <td>Corner</td>\n",
       "      <td>Gtl</td>\n",
       "      <td>Crawfor</td>\n",
       "      <td>Norm</td>\n",
       "      <td>Norm</td>\n",
       "      <td>1Fam</td>\n",
       "      <td>2Story</td>\n",
       "      <td>7</td>\n",
       "      <td>5</td>\n",
       "      <td>1915</td>\n",
       "      <td>1970</td>\n",
       "      <td>Gable</td>\n",
       "      <td>CompShg</td>\n",
       "      <td>Wd Sdng</td>\n",
       "      <td>Wd Shng</td>\n",
       "      <td>None</td>\n",
       "      <td>0.0</td>\n",
       "      <td>TA</td>\n",
       "      <td>TA</td>\n",
       "      <td>BrkTil</td>\n",
       "      <td>TA</td>\n",
       "      <td>Gd</td>\n",
       "      <td>No</td>\n",
       "      <td>ALQ</td>\n",
       "      <td>216</td>\n",
       "      <td>Unf</td>\n",
       "      <td>0</td>\n",
       "      <td>540</td>\n",
       "      <td>756</td>\n",
       "      <td>GasA</td>\n",
       "      <td>Gd</td>\n",
       "      <td>Y</td>\n",
       "      <td>SBrkr</td>\n",
       "      <td>961</td>\n",
       "      <td>756</td>\n",
       "      <td>0</td>\n",
       "      <td>1717</td>\n",
       "      <td>1</td>\n",
       "      <td>0</td>\n",
       "      <td>1</td>\n",
       "      <td>0</td>\n",
       "      <td>3</td>\n",
       "      <td>1</td>\n",
       "      <td>Gd</td>\n",
       "      <td>7</td>\n",
       "      <td>Typ</td>\n",
       "      <td>1</td>\n",
       "      <td>Gd</td>\n",
       "      <td>Detchd</td>\n",
       "      <td>1998.0</td>\n",
       "      <td>Unf</td>\n",
       "      <td>3</td>\n",
       "      <td>642</td>\n",
       "      <td>TA</td>\n",
       "      <td>TA</td>\n",
       "      <td>Y</td>\n",
       "      <td>0</td>\n",
       "      <td>35</td>\n",
       "      <td>272</td>\n",
       "      <td>0</td>\n",
       "      <td>0</td>\n",
       "      <td>0</td>\n",
       "      <td>NaN</td>\n",
       "      <td>NaN</td>\n",
       "      <td>NaN</td>\n",
       "      <td>0</td>\n",
       "      <td>2</td>\n",
       "      <td>2006</td>\n",
       "      <td>WD</td>\n",
       "      <td>Abnorml</td>\n",
       "      <td>140000</td>\n",
       "    </tr>\n",
       "    <tr>\n",
       "      <th>4</th>\n",
       "      <td>5</td>\n",
       "      <td>60</td>\n",
       "      <td>RL</td>\n",
       "      <td>84.0</td>\n",
       "      <td>14260</td>\n",
       "      <td>Pave</td>\n",
       "      <td>NaN</td>\n",
       "      <td>IR1</td>\n",
       "      <td>Lvl</td>\n",
       "      <td>AllPub</td>\n",
       "      <td>FR2</td>\n",
       "      <td>Gtl</td>\n",
       "      <td>NoRidge</td>\n",
       "      <td>Norm</td>\n",
       "      <td>Norm</td>\n",
       "      <td>1Fam</td>\n",
       "      <td>2Story</td>\n",
       "      <td>8</td>\n",
       "      <td>5</td>\n",
       "      <td>2000</td>\n",
       "      <td>2000</td>\n",
       "      <td>Gable</td>\n",
       "      <td>CompShg</td>\n",
       "      <td>VinylSd</td>\n",
       "      <td>VinylSd</td>\n",
       "      <td>BrkFace</td>\n",
       "      <td>350.0</td>\n",
       "      <td>Gd</td>\n",
       "      <td>TA</td>\n",
       "      <td>PConc</td>\n",
       "      <td>Gd</td>\n",
       "      <td>TA</td>\n",
       "      <td>Av</td>\n",
       "      <td>GLQ</td>\n",
       "      <td>655</td>\n",
       "      <td>Unf</td>\n",
       "      <td>0</td>\n",
       "      <td>490</td>\n",
       "      <td>1145</td>\n",
       "      <td>GasA</td>\n",
       "      <td>Ex</td>\n",
       "      <td>Y</td>\n",
       "      <td>SBrkr</td>\n",
       "      <td>1145</td>\n",
       "      <td>1053</td>\n",
       "      <td>0</td>\n",
       "      <td>2198</td>\n",
       "      <td>1</td>\n",
       "      <td>0</td>\n",
       "      <td>2</td>\n",
       "      <td>1</td>\n",
       "      <td>4</td>\n",
       "      <td>1</td>\n",
       "      <td>Gd</td>\n",
       "      <td>9</td>\n",
       "      <td>Typ</td>\n",
       "      <td>1</td>\n",
       "      <td>TA</td>\n",
       "      <td>Attchd</td>\n",
       "      <td>2000.0</td>\n",
       "      <td>RFn</td>\n",
       "      <td>3</td>\n",
       "      <td>836</td>\n",
       "      <td>TA</td>\n",
       "      <td>TA</td>\n",
       "      <td>Y</td>\n",
       "      <td>192</td>\n",
       "      <td>84</td>\n",
       "      <td>0</td>\n",
       "      <td>0</td>\n",
       "      <td>0</td>\n",
       "      <td>0</td>\n",
       "      <td>NaN</td>\n",
       "      <td>NaN</td>\n",
       "      <td>NaN</td>\n",
       "      <td>0</td>\n",
       "      <td>12</td>\n",
       "      <td>2008</td>\n",
       "      <td>WD</td>\n",
       "      <td>Normal</td>\n",
       "      <td>250000</td>\n",
       "    </tr>\n",
       "  </tbody>\n",
       "</table>\n",
       "</div>"
      ],
      "text/plain": [
       "   Id  MSSubClass MSZoning  LotFrontage  LotArea Street Alley LotShape  \\\n",
       "0   1          60       RL         65.0     8450   Pave   NaN      Reg   \n",
       "1   2          20       RL         80.0     9600   Pave   NaN      Reg   \n",
       "2   3          60       RL         68.0    11250   Pave   NaN      IR1   \n",
       "3   4          70       RL         60.0     9550   Pave   NaN      IR1   \n",
       "4   5          60       RL         84.0    14260   Pave   NaN      IR1   \n",
       "\n",
       "  LandContour Utilities LotConfig LandSlope Neighborhood Condition1  \\\n",
       "0         Lvl    AllPub    Inside       Gtl      CollgCr       Norm   \n",
       "1         Lvl    AllPub       FR2       Gtl      Veenker      Feedr   \n",
       "2         Lvl    AllPub    Inside       Gtl      CollgCr       Norm   \n",
       "3         Lvl    AllPub    Corner       Gtl      Crawfor       Norm   \n",
       "4         Lvl    AllPub       FR2       Gtl      NoRidge       Norm   \n",
       "\n",
       "  Condition2 BldgType HouseStyle  OverallQual  OverallCond  YearBuilt  \\\n",
       "0       Norm     1Fam     2Story            7            5       2003   \n",
       "1       Norm     1Fam     1Story            6            8       1976   \n",
       "2       Norm     1Fam     2Story            7            5       2001   \n",
       "3       Norm     1Fam     2Story            7            5       1915   \n",
       "4       Norm     1Fam     2Story            8            5       2000   \n",
       "\n",
       "   YearRemodAdd RoofStyle RoofMatl Exterior1st Exterior2nd MasVnrType  \\\n",
       "0          2003     Gable  CompShg     VinylSd     VinylSd    BrkFace   \n",
       "1          1976     Gable  CompShg     MetalSd     MetalSd       None   \n",
       "2          2002     Gable  CompShg     VinylSd     VinylSd    BrkFace   \n",
       "3          1970     Gable  CompShg     Wd Sdng     Wd Shng       None   \n",
       "4          2000     Gable  CompShg     VinylSd     VinylSd    BrkFace   \n",
       "\n",
       "   MasVnrArea ExterQual ExterCond Foundation BsmtQual BsmtCond BsmtExposure  \\\n",
       "0       196.0        Gd        TA      PConc       Gd       TA           No   \n",
       "1         0.0        TA        TA     CBlock       Gd       TA           Gd   \n",
       "2       162.0        Gd        TA      PConc       Gd       TA           Mn   \n",
       "3         0.0        TA        TA     BrkTil       TA       Gd           No   \n",
       "4       350.0        Gd        TA      PConc       Gd       TA           Av   \n",
       "\n",
       "  BsmtFinType1  BsmtFinSF1 BsmtFinType2  BsmtFinSF2  BsmtUnfSF  TotalBsmtSF  \\\n",
       "0          GLQ         706          Unf           0        150          856   \n",
       "1          ALQ         978          Unf           0        284         1262   \n",
       "2          GLQ         486          Unf           0        434          920   \n",
       "3          ALQ         216          Unf           0        540          756   \n",
       "4          GLQ         655          Unf           0        490         1145   \n",
       "\n",
       "  Heating HeatingQC CentralAir Electrical  1stFlrSF  2ndFlrSF  LowQualFinSF  \\\n",
       "0    GasA        Ex          Y      SBrkr       856       854             0   \n",
       "1    GasA        Ex          Y      SBrkr      1262         0             0   \n",
       "2    GasA        Ex          Y      SBrkr       920       866             0   \n",
       "3    GasA        Gd          Y      SBrkr       961       756             0   \n",
       "4    GasA        Ex          Y      SBrkr      1145      1053             0   \n",
       "\n",
       "   GrLivArea  BsmtFullBath  BsmtHalfBath  FullBath  HalfBath  BedroomAbvGr  \\\n",
       "0       1710             1             0         2         1             3   \n",
       "1       1262             0             1         2         0             3   \n",
       "2       1786             1             0         2         1             3   \n",
       "3       1717             1             0         1         0             3   \n",
       "4       2198             1             0         2         1             4   \n",
       "\n",
       "   KitchenAbvGr KitchenQual  TotRmsAbvGrd Functional  Fireplaces FireplaceQu  \\\n",
       "0             1          Gd             8        Typ           0         NaN   \n",
       "1             1          TA             6        Typ           1          TA   \n",
       "2             1          Gd             6        Typ           1          TA   \n",
       "3             1          Gd             7        Typ           1          Gd   \n",
       "4             1          Gd             9        Typ           1          TA   \n",
       "\n",
       "  GarageType  GarageYrBlt GarageFinish  GarageCars  GarageArea GarageQual  \\\n",
       "0     Attchd       2003.0          RFn           2         548         TA   \n",
       "1     Attchd       1976.0          RFn           2         460         TA   \n",
       "2     Attchd       2001.0          RFn           2         608         TA   \n",
       "3     Detchd       1998.0          Unf           3         642         TA   \n",
       "4     Attchd       2000.0          RFn           3         836         TA   \n",
       "\n",
       "  GarageCond PavedDrive  WoodDeckSF  OpenPorchSF  EnclosedPorch  3SsnPorch  \\\n",
       "0         TA          Y           0           61              0          0   \n",
       "1         TA          Y         298            0              0          0   \n",
       "2         TA          Y           0           42              0          0   \n",
       "3         TA          Y           0           35            272          0   \n",
       "4         TA          Y         192           84              0          0   \n",
       "\n",
       "   ScreenPorch  PoolArea PoolQC Fence MiscFeature  MiscVal  MoSold  YrSold  \\\n",
       "0            0         0    NaN   NaN         NaN        0       2    2008   \n",
       "1            0         0    NaN   NaN         NaN        0       5    2007   \n",
       "2            0         0    NaN   NaN         NaN        0       9    2008   \n",
       "3            0         0    NaN   NaN         NaN        0       2    2006   \n",
       "4            0         0    NaN   NaN         NaN        0      12    2008   \n",
       "\n",
       "  SaleType SaleCondition  SalePrice  \n",
       "0       WD        Normal     208500  \n",
       "1       WD        Normal     181500  \n",
       "2       WD        Normal     223500  \n",
       "3       WD       Abnorml     140000  \n",
       "4       WD        Normal     250000  "
      ]
     },
     "execution_count": 2,
     "metadata": {},
     "output_type": "execute_result"
    }
   ],
   "source": [
    "# Importing the dataset\n",
    "dataset = pd.read_csv('train.csv')\n",
    "dataset.head()"
   ]
  },
  {
   "cell_type": "code",
   "execution_count": 3,
   "metadata": {},
   "outputs": [],
   "source": [
    "# Dropping irrelevant column\n",
    "dataset.drop(columns='Id',inplace=True)"
   ]
  },
  {
   "cell_type": "code",
   "execution_count": 4,
   "metadata": {},
   "outputs": [
    {
     "data": {
      "text/plain": [
       "PoolQC          1453\n",
       "MiscFeature     1406\n",
       "Alley           1369\n",
       "Fence           1179\n",
       "FireplaceQu      690\n",
       "LotFrontage      259\n",
       "GarageType        81\n",
       "GarageCond        81\n",
       "GarageFinish      81\n",
       "GarageQual        81\n",
       "GarageYrBlt       81\n",
       "BsmtFinType2      38\n",
       "BsmtExposure      38\n",
       "BsmtQual          37\n",
       "BsmtCond          37\n",
       "BsmtFinType1      37\n",
       "MasVnrArea         8\n",
       "MasVnrType         8\n",
       "Electrical         1\n",
       "RoofMatl           0\n",
       "dtype: int64"
      ]
     },
     "execution_count": 4,
     "metadata": {},
     "output_type": "execute_result"
    }
   ],
   "source": [
    "# NULL values\n",
    "dataset.isna().sum().sort_values(ascending=False).head(20)"
   ]
  },
  {
   "cell_type": "markdown",
   "metadata": {},
   "source": [
    "### Handling Missing Values"
   ]
  },
  {
   "cell_type": "code",
   "execution_count": 5,
   "metadata": {},
   "outputs": [],
   "source": [
    "# LotFrontage\n",
    "dataset['LotFrontage'] = dataset.groupby('Neighborhood')['LotFrontage'].transform(lambda x: x.fillna(x.mean()))"
   ]
  },
  {
   "cell_type": "code",
   "execution_count": 6,
   "metadata": {},
   "outputs": [],
   "source": [
    "# Alley\n",
    "dataset['Alley'] = dataset['Alley'].fillna('None')"
   ]
  },
  {
   "cell_type": "code",
   "execution_count": 7,
   "metadata": {},
   "outputs": [],
   "source": [
    "# MasVnrType\n",
    "dataset['MasVnrType'] = dataset['MasVnrType'].fillna('CBlock')"
   ]
  },
  {
   "cell_type": "code",
   "execution_count": 8,
   "metadata": {},
   "outputs": [],
   "source": [
    "# MasVnrArea\n",
    "dataset['MasVnrArea'] = dataset['MasVnrArea'].fillna(0)"
   ]
  },
  {
   "cell_type": "code",
   "execution_count": 9,
   "metadata": {},
   "outputs": [],
   "source": [
    "# 'BsmtExposure', 'BsmtFinType2', 'BsmtFinType1', 'BsmtCond', 'BsmtQual'\n",
    "Bsmt_cols = ['BsmtExposure', 'BsmtFinType2', 'BsmtFinType1', 'BsmtCond', 'BsmtQual']\n",
    "for col in Bsmt_cols:\n",
    "    dataset[col] = dataset[col].fillna('None')"
   ]
  },
  {
   "cell_type": "code",
   "execution_count": 10,
   "metadata": {},
   "outputs": [],
   "source": [
    "# Electrical\n",
    "dataset['Electrical'] = dataset['Electrical'].fillna(dataset['Electrical'].mode()[0])"
   ]
  },
  {
   "cell_type": "code",
   "execution_count": 11,
   "metadata": {},
   "outputs": [],
   "source": [
    "# FireplaceQu\n",
    "dataset['FireplaceQu'] = dataset['FireplaceQu'].fillna('None')"
   ]
  },
  {
   "cell_type": "code",
   "execution_count": 12,
   "metadata": {},
   "outputs": [],
   "source": [
    "# 'GarageCond', 'GarageType', 'GarageFinish', 'GarageQual'\n",
    "garage_cols = ['GarageCond', 'GarageType', 'GarageFinish', 'GarageQual']\n",
    "for cols in garage_cols:\n",
    "    dataset[cols] = dataset[cols].fillna('None')"
   ]
  },
  {
   "cell_type": "code",
   "execution_count": 13,
   "metadata": {},
   "outputs": [],
   "source": [
    "# GarageYrBlt\n",
    "dataset['GarageYrBlt'] = dataset['GarageYrBlt'].fillna(0)"
   ]
  },
  {
   "cell_type": "code",
   "execution_count": 14,
   "metadata": {},
   "outputs": [],
   "source": [
    "# 'PoolQC','MiscFeature', 'Fence'\n",
    "none_cols = ['PoolQC','MiscFeature', 'Fence']\n",
    "for cols in none_cols:\n",
    "    dataset[cols] = dataset[cols].fillna('None')"
   ]
  },
  {
   "cell_type": "markdown",
   "metadata": {},
   "source": [
    "### Checking dtype of each column"
   ]
  },
  {
   "cell_type": "code",
   "execution_count": 15,
   "metadata": {},
   "outputs": [],
   "source": [
    "# Chaning 'object' dtype to 'category'\n",
    "dtype_col = dataset.select_dtypes(include='object').columns\n",
    "for cols in dtype_col:\n",
    "    dataset[cols] = dataset[cols].astype('category')"
   ]
  },
  {
   "cell_type": "code",
   "execution_count": 16,
   "metadata": {},
   "outputs": [],
   "source": [
    "# MSSubClass, OverallQual, OverallCond, MoSold, YrSold\n",
    "change_dtype_col = ['MSSubClass', 'OverallQual', 'OverallCond', 'MoSold', 'YrSold']\n",
    "for cols in change_dtype_col:\n",
    "    dataset[cols] = dataset[cols].astype('category')"
   ]
  },
  {
   "cell_type": "markdown",
   "metadata": {},
   "source": [
    "### Coverting into labels using LabelEncoder"
   ]
  },
  {
   "cell_type": "code",
   "execution_count": 17,
   "metadata": {},
   "outputs": [],
   "source": [
    "labelenc_col = ['MSSubClass', 'MSZoning', 'Street', 'Alley', 'LotShape', 'LandContour',\n",
    "                'Utilities', 'LotConfig', 'LandSlope', 'Neighborhood', 'Condition1',\n",
    "                'Condition2', 'BldgType', 'HouseStyle', 'OverallQual', 'OverallCond',\n",
    "                'RoofStyle', 'RoofMatl', 'Exterior1st', 'Exterior2nd', 'MasVnrType',\n",
    "                'ExterQual', 'ExterCond', 'Foundation', 'BsmtQual', 'BsmtCond',\n",
    "                'BsmtExposure', 'BsmtFinType1', 'BsmtFinType2', 'Heating', 'HeatingQC',\n",
    "                'CentralAir', 'Electrical', 'KitchenQual', 'Functional', 'FireplaceQu',\n",
    "                'GarageType', 'GarageFinish', 'GarageQual', 'GarageCond', 'PavedDrive',\n",
    "                'PoolQC', 'Fence', 'MiscFeature', 'MoSold', 'YrSold', 'SaleType',\n",
    "                'SaleCondition']"
   ]
  },
  {
   "cell_type": "code",
   "execution_count": 18,
   "metadata": {},
   "outputs": [],
   "source": [
    "# LabelEncoding\n",
    "from sklearn.preprocessing import LabelEncoder\n",
    "labelencoder_X = LabelEncoder()\n",
    "for i in labelenc_col:\n",
    "    labelencoder_X.fit(list(dataset[i].values))\n",
    "    dataset[i] = labelencoder_X.transform(list(dataset[i].values))"
   ]
  },
  {
   "cell_type": "markdown",
   "metadata": {},
   "source": [
    "### Feature Engineering"
   ]
  },
  {
   "cell_type": "code",
   "execution_count": 19,
   "metadata": {},
   "outputs": [],
   "source": [
    "# Adding important features\n",
    "\n",
    "dataset['TotalSF'] = dataset['TotalBsmtSF'] + dataset['1stFlrSF'] + dataset['2ndFlrSF']\n",
    "dataset['TotalBath'] = dataset['BsmtFullBath'] + dataset['BsmtHalfBath'] + dataset['FullBath'] + dataset['HalfBath']\n",
    "dataset['HouseAge'] = 2020 - dataset['YearRemodAdd']\n",
    "dataset['GarageAge'] = 2020 - dataset['GarageYrBlt']"
   ]
  },
  {
   "cell_type": "markdown",
   "metadata": {},
   "source": [
    "### Changing into their respective dtype"
   ]
  },
  {
   "cell_type": "code",
   "execution_count": 20,
   "metadata": {},
   "outputs": [],
   "source": [
    "for cols in dtype_col:\n",
    "    dataset[cols] = dataset[cols].astype('category')\n",
    "    \n",
    "for cols in change_dtype_col:\n",
    "    dataset[cols] = dataset[cols].astype('category')"
   ]
  },
  {
   "cell_type": "markdown",
   "metadata": {},
   "source": [
    "### Checking outliers"
   ]
  },
  {
   "cell_type": "code",
   "execution_count": 21,
   "metadata": {},
   "outputs": [
    {
     "name": "stdout",
     "output_type": "stream",
     "text": [
      "AxesSubplot(0.125,0.536818;0.352273x0.343182)\n"
     ]
    },
    {
     "data": {
      "text/plain": [
       "<matplotlib.collections.PathCollection at 0x235743c5788>"
      ]
     },
     "execution_count": 21,
     "metadata": {},
     "output_type": "execute_result"
    },
    {
     "data": {
      "image/png": "[encoded data removed]",
      "text/plain": [
       "<Figure size 720x576 with 2 Axes>"
      ]
     },
     "metadata": {
      "needs_background": "light"
     },
     "output_type": "display_data"
    }
   ],
   "source": [
    "plt.figure(figsize=(10,8))\n",
    "plt.subplot(2,2,1)\n",
    "print(dataset['GrLivArea'].plot(kind='box', title = 'GrLivArea'))\n",
    "plt.subplot(2,2,2)\n",
    "plt.scatter(dataset['GrLivArea'],dataset['SalePrice'])"
   ]
  },
  {
   "cell_type": "code",
   "execution_count": 22,
   "metadata": {},
   "outputs": [],
   "source": [
    "crit1 = (dataset['GrLivArea'] > 4000) & (dataset['SalePrice'] < 300000)\n",
    "dataset.drop(index = dataset[crit1].iloc[:,0].index, inplace=True)"
   ]
  },
  {
   "cell_type": "code",
   "execution_count": 23,
   "metadata": {},
   "outputs": [],
   "source": [
    "outlier_col = ['LotFrontage', 'LotArea', 'MasVnrArea', 'BsmtFinSF1', 'BsmtFinSF2', 'BsmtUnfSF', 'TotalBsmtSF', '1stFlrSF',\n",
    "                '2ndFlrSF', 'GrLivArea', 'GarageArea', 'TotalSF']"
   ]
  },
  {
   "cell_type": "code",
   "execution_count": 24,
   "metadata": {},
   "outputs": [
    {
     "name": "stdout",
     "output_type": "stream",
     "text": [
      "AxesSubplot(0.125,0.536818;0.352273x0.343182)\n",
      "AxesSubplot(0.125,0.125;0.352273x0.343182)\n"
     ]
    },
    {
     "data": {
      "text/plain": [
       "<matplotlib.collections.PathCollection at 0x23574574d48>"
      ]
     },
     "execution_count": 24,
     "metadata": {},
     "output_type": "execute_result"
    },
    {
     "data": {
      "image/png": "[encoded data removed]",
      "text/plain": [
       "<Figure size 720x576 with 4 Axes>"
      ]
     },
     "metadata": {
      "needs_background": "light"
     },
     "output_type": "display_data"
    }
   ],
   "source": [
    "plt.figure(figsize=(10,8))\n",
    "plt.subplot(2,2,1)\n",
    "print(dataset['LotFrontage'].plot(kind='box', title = 'LotFrontage'))\n",
    "plt.subplot(2,2,2)\n",
    "plt.scatter(dataset['LotFrontage'],dataset['SalePrice'])\n",
    "\n",
    "plt.subplot(2,2,3)\n",
    "print(dataset['LotArea'].plot(kind='box', title = 'LotArea'))\n",
    "plt.subplot(2,2,4)\n",
    "plt.scatter(dataset['LotArea'],dataset['SalePrice'])"
   ]
  },
  {
   "cell_type": "markdown",
   "metadata": {},
   "source": [
    "### Checking Skewness"
   ]
  },
  {
   "cell_type": "code",
   "execution_count": 25,
   "metadata": {},
   "outputs": [],
   "source": [
    "y = np.log1p(dataset['SalePrice'])\n",
    "X = dataset.drop(columns='SalePrice')"
   ]
  },
  {
   "cell_type": "code",
   "execution_count": 26,
   "metadata": {},
   "outputs": [],
   "source": [
    "skew_col = X.select_dtypes(exclude='category').columns"
   ]
  },
  {
   "cell_type": "code",
   "execution_count": 27,
   "metadata": {},
   "outputs": [
    {
     "data": {
      "text/html": [
       "<div>\n",
       "<style scoped>\n",
       "    .dataframe tbody tr th:only-of-type {\n",
       "        vertical-align: middle;\n",
       "    }\n",
       "\n",
       "    .dataframe tbody tr th {\n",
       "        vertical-align: top;\n",
       "    }\n",
       "\n",
       "    .dataframe thead th {\n",
       "        text-align: right;\n",
       "    }\n",
       "</style>\n",
       "<table border=\"1\" class=\"dataframe\">\n",
       "  <thead>\n",
       "    <tr style=\"text-align: right;\">\n",
       "      <th></th>\n",
       "      <th>Skew</th>\n",
       "    </tr>\n",
       "  </thead>\n",
       "  <tbody>\n",
       "    <tr>\n",
       "      <th>MiscVal</th>\n",
       "      <td>24.460085</td>\n",
       "    </tr>\n",
       "    <tr>\n",
       "      <th>PoolArea</th>\n",
       "      <td>15.948945</td>\n",
       "    </tr>\n",
       "    <tr>\n",
       "      <th>LotArea</th>\n",
       "      <td>12.573925</td>\n",
       "    </tr>\n",
       "    <tr>\n",
       "      <th>3SsnPorch</th>\n",
       "      <td>10.297106</td>\n",
       "    </tr>\n",
       "    <tr>\n",
       "      <th>LowQualFinSF</th>\n",
       "      <td>9.004955</td>\n",
       "    </tr>\n",
       "    <tr>\n",
       "      <th>KitchenAbvGr</th>\n",
       "      <td>4.484883</td>\n",
       "    </tr>\n",
       "    <tr>\n",
       "      <th>BsmtFinSF2</th>\n",
       "      <td>4.251925</td>\n",
       "    </tr>\n",
       "    <tr>\n",
       "      <th>ScreenPorch</th>\n",
       "      <td>4.118929</td>\n",
       "    </tr>\n",
       "    <tr>\n",
       "      <th>BsmtHalfBath</th>\n",
       "      <td>4.100114</td>\n",
       "    </tr>\n",
       "    <tr>\n",
       "      <th>GarageAge</th>\n",
       "      <td>3.866380</td>\n",
       "    </tr>\n",
       "  </tbody>\n",
       "</table>\n",
       "</div>"
      ],
      "text/plain": [
       "                   Skew\n",
       "MiscVal       24.460085\n",
       "PoolArea      15.948945\n",
       "LotArea       12.573925\n",
       "3SsnPorch     10.297106\n",
       "LowQualFinSF   9.004955\n",
       "KitchenAbvGr   4.484883\n",
       "BsmtFinSF2     4.251925\n",
       "ScreenPorch    4.118929\n",
       "BsmtHalfBath   4.100114\n",
       "GarageAge      3.866380"
      ]
     },
     "execution_count": 27,
     "metadata": {},
     "output_type": "execute_result"
    }
   ],
   "source": [
    "skewed_values = X[skew_col].apply(lambda x: x.skew()).sort_values(ascending=False)\n",
    "skewness = pd.DataFrame({'Skew':skewed_values})\n",
    "skewness.head(10)"
   ]
  },
  {
   "cell_type": "markdown",
   "metadata": {},
   "source": [
    "### Transforming features"
   ]
  },
  {
   "cell_type": "code",
   "execution_count": 28,
   "metadata": {},
   "outputs": [],
   "source": [
    "# Box-Cox Transformation\n",
    "skewness = skewness[(skewness['Skew'] > 0.75) | (skewness['Skew'] < - 0.75)]\n",
    "\n",
    "from scipy.special import boxcox1p\n",
    "skewed_features = skewness.index\n",
    "lam = 0.15\n",
    "for i in skewed_features:\n",
    "    X[i] = boxcox1p(X[i],lam)"
   ]
  },
  {
   "cell_type": "code",
   "execution_count": 29,
   "metadata": {},
   "outputs": [],
   "source": [
    "X.drop(columns = ['YearBuilt', 'YearRemodAdd', 'GarageYrBlt', 'MoSold', 'YrSold'], inplace=True)"
   ]
  },
  {
   "cell_type": "code",
   "execution_count": 30,
   "metadata": {},
   "outputs": [],
   "source": [
    "X = pd.get_dummies(X, drop_first = True)"
   ]
  },
  {
   "cell_type": "code",
   "execution_count": 31,
   "metadata": {},
   "outputs": [],
   "source": [
    "from sklearn.model_selection import train_test_split\n",
    "X_train, X_test, y_train, y_test = train_test_split(X, y, test_size = 0.3, random_state = 0)"
   ]
  },
  {
   "cell_type": "markdown",
   "metadata": {},
   "source": [
    "### Run the Models"
   ]
  },
  {
   "cell_type": "code",
   "execution_count": 32,
   "metadata": {},
   "outputs": [],
   "source": [
    "# Lasso"
   ]
  },
  {
   "cell_type": "code",
   "execution_count": 33,
   "metadata": {},
   "outputs": [
    {
     "data": {
      "text/plain": [
       "Lasso(alpha=0.00025, copy_X=True, fit_intercept=True, max_iter=10000,\n",
       "      normalize=False, positive=False, precompute=False, random_state=1,\n",
       "      selection='cyclic', tol=0.0001, warm_start=False)"
      ]
     },
     "execution_count": 33,
     "metadata": {},
     "output_type": "execute_result"
    }
   ],
   "source": [
    "from sklearn.pipeline import make_pipeline\n",
    "from sklearn.preprocessing import RobustScaler\n",
    "from sklearn.linear_model import Lasso\n",
    "#ls = make_pipeline(RobustScaler(),Lasso(alpha = 0.00025, random_state = 1))\n",
    "ls = Lasso(alpha = 0.00025, max_iter = 10000,random_state = 1)\n",
    "ls.fit(X_train, y_train)"
   ]
  },
  {
   "cell_type": "code",
   "execution_count": 34,
   "metadata": {},
   "outputs": [],
   "source": [
    "y_predict = ls.predict(X_test)"
   ]
  },
  {
   "cell_type": "code",
   "execution_count": 35,
   "metadata": {},
   "outputs": [
    {
     "data": {
      "text/plain": [
       "0.11281715230766774"
      ]
     },
     "execution_count": 35,
     "metadata": {},
     "output_type": "execute_result"
    }
   ],
   "source": [
    "from sklearn.metrics import mean_squared_error\n",
    "math.sqrt(mean_squared_error(y_test, y_predict))"
   ]
  },
  {
   "cell_type": "code",
   "execution_count": 36,
   "metadata": {},
   "outputs": [],
   "source": [
    "# RMSLE"
   ]
  },
  {
   "cell_type": "code",
   "execution_count": 37,
   "metadata": {},
   "outputs": [],
   "source": [
    "y_test = y_test.reset_index().drop(columns='index')"
   ]
  },
  {
   "cell_type": "code",
   "execution_count": 38,
   "metadata": {},
   "outputs": [],
   "source": [
    "y_test = y_test['SalePrice']"
   ]
  },
  {
   "cell_type": "code",
   "execution_count": 39,
   "metadata": {},
   "outputs": [
    {
     "name": "stdout",
     "output_type": "stream",
     "text": [
      "0.11281629595121313\n"
     ]
    }
   ],
   "source": [
    "Y_test_e = []\n",
    "Y_predict_e = []\n",
    "\n",
    "for i in range(0, len(y_test)):\n",
    "    Y_test_e.append(math.exp(y_test[i]))\n",
    "    Y_predict_e.append(math.exp(y_predict[i]))\n",
    "    \n",
    "log_sq_sum = 0.0\n",
    "for i in range(0, len(Y_test_e)):\n",
    "    log_a = math.log(Y_test_e[i] + 1)\n",
    "    log_p = math.log(Y_predict_e[i] + 1)\n",
    "    log_diff = (log_p - log_a)**2\n",
    "    log_sq_sum = log_sq_sum + log_diff\n",
    "\n",
    "rmsle = math.sqrt(log_sq_sum/len(y_test))\n",
    "\n",
    "print(rmsle)"
   ]
  },
  {
   "cell_type": "code",
   "execution_count": 40,
   "metadata": {},
   "outputs": [],
   "source": [
    "# XGBoost"
   ]
  },
  {
   "cell_type": "code",
   "execution_count": 41,
   "metadata": {},
   "outputs": [
    {
     "data": {
      "text/plain": [
       "XGBRegressor(base_score=0.5, booster='gbtree', colsample_bylevel=1,\n",
       "             colsample_bynode=1, colsample_bytree=0.4603, gamma=0.0468,\n",
       "             importance_type='gain', learning_rate=0.05, max_delta_step=0,\n",
       "             max_depth=3, min_child_weight=1.7817, missing=None,\n",
       "             n_estimators=2200, n_jobs=1, nthread=-1, objective='reg:linear',\n",
       "             random_state=7, reg_alpha=0.464, reg_lambda=0.8571,\n",
       "             scale_pos_weight=1, seed=None, silent=1, subsample=0.5213,\n",
       "             verbosity=1)"
      ]
     },
     "execution_count": 41,
     "metadata": {},
     "output_type": "execute_result"
    }
   ],
   "source": [
    "from xgboost import XGBRegressor\n",
    "xgb = XGBRegressor(colsample_bytree=0.4603, gamma=0.0468, \n",
    "                             learning_rate=0.05, max_depth=3, \n",
    "                             min_child_weight=1.7817, n_estimators=2200,\n",
    "                             reg_alpha=0.4640, reg_lambda=0.8571,\n",
    "                             subsample=0.5213, silent=1,\n",
    "                             random_state =7, nthread = -1)\n",
    "xgb.fit(X_train, y_train)"
   ]
  },
  {
   "cell_type": "code",
   "execution_count": 42,
   "metadata": {},
   "outputs": [],
   "source": [
    "y_predict = xgb.predict(X_test)"
   ]
  },
  {
   "cell_type": "code",
   "execution_count": 43,
   "metadata": {},
   "outputs": [
    {
     "data": {
      "text/plain": [
       "0.12898991176329183"
      ]
     },
     "execution_count": 43,
     "metadata": {},
     "output_type": "execute_result"
    }
   ],
   "source": [
    "math.sqrt(mean_squared_error(y_test, y_predict))"
   ]
  },
  {
   "cell_type": "code",
   "execution_count": 44,
   "metadata": {},
   "outputs": [],
   "source": [
    "# Selecting best variables for Y"
   ]
  },
  {
   "cell_type": "code",
   "execution_count": 45,
   "metadata": {},
   "outputs": [],
   "source": [
    "# We have selected top 70% variables among all variables."
   ]
  },
  {
   "cell_type": "code",
   "execution_count": 46,
   "metadata": {},
   "outputs": [],
   "source": [
    "# Selection Transform of Feature Selection\n",
    "from sklearn.feature_selection import SelectPercentile,\\\n",
    "                                      f_regression\n",
    "\n",
    "# Implement SelectPercentile for feature selection\n",
    "\n",
    "selectorP = SelectPercentile(score_func = f_regression,percentile=70)\n",
    "x_p = selectorP.fit_transform(X,y)"
   ]
  },
  {
   "cell_type": "code",
   "execution_count": 47,
   "metadata": {},
   "outputs": [],
   "source": [
    "#y = y.values"
   ]
  },
  {
   "cell_type": "code",
   "execution_count": 48,
   "metadata": {},
   "outputs": [],
   "source": [
    "X_train, X_test, y_train, y_test = train_test_split(x_p, y, test_size = 0.3, random_state=0)"
   ]
  },
  {
   "cell_type": "code",
   "execution_count": 49,
   "metadata": {},
   "outputs": [],
   "source": [
    "# XGBoost"
   ]
  },
  {
   "cell_type": "code",
   "execution_count": 50,
   "metadata": {},
   "outputs": [
    {
     "data": {
      "text/plain": [
       "XGBRegressor(base_score=0.5, booster='gbtree', colsample_bylevel=1,\n",
       "             colsample_bynode=1, colsample_bytree=0.4603, gamma=0.0468,\n",
       "             importance_type='gain', learning_rate=0.05, max_delta_step=0,\n",
       "             max_depth=3, min_child_weight=1.7817, missing=None,\n",
       "             n_estimators=2200, n_jobs=1, nthread=-1, objective='reg:linear',\n",
       "             random_state=7, reg_alpha=0.464, reg_lambda=0.8571,\n",
       "             scale_pos_weight=1, seed=None, silent=1, subsample=0.5213,\n",
       "             verbosity=1)"
      ]
     },
     "execution_count": 50,
     "metadata": {},
     "output_type": "execute_result"
    }
   ],
   "source": [
    "from xgboost import XGBRegressor\n",
    "xgb = XGBRegressor(colsample_bytree=0.4603, gamma=0.0468, \n",
    "                             learning_rate=0.05, max_depth=3, \n",
    "                             min_child_weight=1.7817, n_estimators=2200,\n",
    "                             reg_alpha=0.4640, reg_lambda=0.8571,\n",
    "                             subsample=0.5213, silent=1,\n",
    "                             random_state =7, nthread = -1)\n",
    "xgb.fit(X_train, y_train)"
   ]
  },
  {
   "cell_type": "code",
   "execution_count": 51,
   "metadata": {},
   "outputs": [],
   "source": [
    "y_predict = xgb.predict(X_test)"
   ]
  },
  {
   "cell_type": "code",
   "execution_count": 52,
   "metadata": {},
   "outputs": [
    {
     "data": {
      "text/plain": [
       "0.12564764633183592"
      ]
     },
     "execution_count": 52,
     "metadata": {},
     "output_type": "execute_result"
    }
   ],
   "source": [
    "math.sqrt(mean_squared_error(y_test, y_predict))"
   ]
  },
  {
   "cell_type": "code",
   "execution_count": 53,
   "metadata": {},
   "outputs": [
    {
     "data": {
      "text/plain": [
       "LinearRegression(copy_X=True, fit_intercept=True, n_jobs=None, normalize=False)"
      ]
     },
     "execution_count": 53,
     "metadata": {},
     "output_type": "execute_result"
    }
   ],
   "source": [
    "# Linear Regression\n",
    "from sklearn.linear_model import LinearRegression\n",
    "lr = LinearRegression()\n",
    "lr.fit(X_train, y_train)"
   ]
  },
  {
   "cell_type": "code",
   "execution_count": 54,
   "metadata": {},
   "outputs": [],
   "source": [
    "y_predict = lr.predict(X_test)"
   ]
  },
  {
   "cell_type": "code",
   "execution_count": 55,
   "metadata": {},
   "outputs": [
    {
     "data": {
      "text/plain": [
       "0.11968309316012178"
      ]
     },
     "execution_count": 55,
     "metadata": {},
     "output_type": "execute_result"
    }
   ],
   "source": [
    "np.sqrt(mean_squared_error(y_test, y_predict))"
   ]
  },
  {
   "cell_type": "code",
   "execution_count": 56,
   "metadata": {},
   "outputs": [
    {
     "data": {
      "text/plain": [
       "'\\nfrom sklearn.preprocessing import PolynomialFeatures\\npoly_reg = PolynomialFeatures(degree = 2)\\nX_train_poly = poly_reg.fit_transform(X_train)\\nX_test_poly = poly_reg.fit_transform(X_test)\\n'"
      ]
     },
     "execution_count": 56,
     "metadata": {},
     "output_type": "execute_result"
    }
   ],
   "source": [
    "# Polynomial Regression\n",
    "\"\"\"\n",
    "from sklearn.preprocessing import PolynomialFeatures\n",
    "poly_reg = PolynomialFeatures(degree = 2)\n",
    "X_train_poly = poly_reg.fit_transform(X_train)\n",
    "X_test_poly = poly_reg.fit_transform(X_test)\n",
    "\"\"\""
   ]
  },
  {
   "cell_type": "code",
   "execution_count": 57,
   "metadata": {},
   "outputs": [
    {
     "data": {
      "text/plain": [
       "'\\nlr2 = LinearRegression()\\nlr2.fit(X_train_poly, y_train)\\n'"
      ]
     },
     "execution_count": 57,
     "metadata": {},
     "output_type": "execute_result"
    }
   ],
   "source": [
    "\"\"\"\n",
    "lr2 = LinearRegression()\n",
    "lr2.fit(X_train_poly, y_train)\n",
    "\"\"\""
   ]
  },
  {
   "cell_type": "code",
   "execution_count": 58,
   "metadata": {},
   "outputs": [
    {
     "data": {
      "text/plain": [
       "'\\ny_predict_1 = lr.predict(X_test)\\n\\nmath.sqrt(mean_squared_error(y_test, y_predict_1))\\n'"
      ]
     },
     "execution_count": 58,
     "metadata": {},
     "output_type": "execute_result"
    }
   ],
   "source": [
    "\"\"\"\n",
    "y_predict_1 = lr.predict(X_test)\n",
    "\n",
    "math.sqrt(mean_squared_error(y_test, y_predict_1))\n",
    "\"\"\""
   ]
  },
  {
   "cell_type": "code",
   "execution_count": 59,
   "metadata": {},
   "outputs": [
    {
     "data": {
      "text/plain": [
       "RandomForestRegressor(bootstrap=True, ccp_alpha=0.0, criterion='mse',\n",
       "                      max_depth=None, max_features='auto', max_leaf_nodes=None,\n",
       "                      max_samples=None, min_impurity_decrease=0.0,\n",
       "                      min_impurity_split=None, min_samples_leaf=1,\n",
       "                      min_samples_split=2, min_weight_fraction_leaf=0.0,\n",
       "                      n_estimators=300, n_jobs=None, oob_score=False,\n",
       "                      random_state=0, verbose=0, warm_start=False)"
      ]
     },
     "execution_count": 59,
     "metadata": {},
     "output_type": "execute_result"
    }
   ],
   "source": [
    "# Random Forest\n",
    "from sklearn.ensemble import RandomForestRegressor\n",
    "rfr = RandomForestRegressor(n_estimators = 300, random_state=0)\n",
    "rfr.fit(X_train, y_train)"
   ]
  },
  {
   "cell_type": "code",
   "execution_count": 60,
   "metadata": {},
   "outputs": [],
   "source": [
    "y_predict = rfr.predict(X_test)"
   ]
  },
  {
   "cell_type": "code",
   "execution_count": 61,
   "metadata": {},
   "outputs": [
    {
     "data": {
      "text/plain": [
       "0.1391437625970483"
      ]
     },
     "execution_count": 61,
     "metadata": {},
     "output_type": "execute_result"
    }
   ],
   "source": [
    "np.sqrt(mean_squared_error(y_test, y_predict))"
   ]
  },
  {
   "cell_type": "code",
   "execution_count": 62,
   "metadata": {},
   "outputs": [],
   "source": [
    "# ANN"
   ]
  },
  {
   "cell_type": "code",
   "execution_count": 63,
   "metadata": {},
   "outputs": [],
   "source": [
    "from tensorflow.keras import backend as K\n",
    "from tensorflow.keras.models import Sequential\n",
    "from tensorflow.keras.layers import Dense\n",
    "\n",
    "# Define the keras model\n",
    "model = Sequential()"
   ]
  },
  {
   "cell_type": "code",
   "execution_count": 64,
   "metadata": {},
   "outputs": [],
   "source": [
    "# Adding the layers\n",
    "model.add(Dense(24,input_dim = 201, activation = 'relu',kernel_initializer = 'RandomNormal'))\n",
    "\n",
    "model.add(Dense(12, activation = 'relu',kernel_initializer = 'RandomNormal'))\n",
    "\n",
    "model.add(Dense(1, kernel_initializer = 'RandomNormal'))"
   ]
  },
  {
   "cell_type": "code",
   "execution_count": 65,
   "metadata": {},
   "outputs": [],
   "source": [
    "# Compile the model\n",
    "model.compile(optimizer='adam',\n",
    "              loss='mean_squared_error',\n",
    "              metrics=['mse'])"
   ]
  },
  {
   "cell_type": "code",
   "execution_count": 66,
   "metadata": {},
   "outputs": [
    {
     "name": "stdout",
     "output_type": "stream",
     "text": [
      "Train on 1020 samples\n",
      "Epoch 1/160\n",
      "1020/1020 [==============================] - 1s 880us/sample - loss: 28.8567 - mse: 28.8567\n",
      "Epoch 2/160\n",
      "1020/1020 [==============================] - ETA: 0s - loss: 5.8464 - mse: 5.846 - 0s 281us/sample - loss: 5.6424 - mse: 5.6424\n",
      "Epoch 3/160\n",
      "1020/1020 [==============================] - 0s 281us/sample - loss: 1.9856 - mse: 1.9856\n",
      "Epoch 4/160\n",
      "1020/1020 [==============================] - 0s 310us/sample - loss: 1.1589 - mse: 1.1589\n",
      "Epoch 5/160\n",
      "1020/1020 [==============================] - 0s 249us/sample - loss: 0.7820 - mse: 0.7820\n",
      "Epoch 6/160\n",
      "1020/1020 [==============================] - 0s 303us/sample - loss: 0.5118 - mse: 0.5118\n",
      "Epoch 7/160\n",
      "1020/1020 [==============================] - 0s 246us/sample - loss: 0.3791 - mse: 0.3791\n",
      "Epoch 8/160\n",
      "1020/1020 [==============================] - 0s 296us/sample - loss: 0.2911 - mse: 0.2911\n",
      "Epoch 9/160\n",
      "1020/1020 [==============================] - 0s 285us/sample - loss: 0.2069 - mse: 0.2069\n",
      "Epoch 10/160\n",
      "1020/1020 [==============================] - 0s 300us/sample - loss: 0.1818 - mse: 0.1818\n",
      "Epoch 11/160\n",
      "1020/1020 [==============================] - 0s 295us/sample - loss: 0.1825 - mse: 0.1825\n",
      "Epoch 12/160\n",
      "1020/1020 [==============================] - 0s 351us/sample - loss: 0.1465 - mse: 0.1465\n",
      "Epoch 13/160\n",
      "1020/1020 [==============================] - 0s 368us/sample - loss: 0.1670 - mse: 0.1670\n",
      "Epoch 14/160\n",
      "1020/1020 [==============================] - 0s 353us/sample - loss: 0.1144 - mse: 0.1144\n",
      "Epoch 15/160\n",
      "1020/1020 [==============================] - 0s 360us/sample - loss: 0.0999 - mse: 0.0999\n",
      "Epoch 16/160\n",
      "1020/1020 [==============================] - 0s 405us/sample - loss: 0.0927 - mse: 0.0927\n",
      "Epoch 17/160\n",
      "1020/1020 [==============================] - 0s 356us/sample - loss: 0.1072 - mse: 0.1072\n",
      "Epoch 18/160\n",
      "1020/1020 [==============================] - 0s 303us/sample - loss: 0.0975 - mse: 0.0975\n",
      "Epoch 19/160\n",
      "1020/1020 [==============================] - 0s 264us/sample - loss: 0.0901 - mse: 0.0901\n",
      "Epoch 20/160\n",
      "1020/1020 [==============================] - 0s 251us/sample - loss: 0.0904 - mse: 0.0904\n",
      "Epoch 21/160\n",
      "1020/1020 [==============================] - 0s 240us/sample - loss: 0.0725 - mse: 0.0725\n",
      "Epoch 22/160\n",
      "1020/1020 [==============================] - 0s 248us/sample - loss: 0.0739 - mse: 0.0739\n",
      "Epoch 23/160\n",
      "1020/1020 [==============================] - 0s 207us/sample - loss: 0.0700 - mse: 0.0700\n",
      "Epoch 24/160\n",
      "1020/1020 [==============================] - 0s 184us/sample - loss: 0.0979 - mse: 0.0979\n",
      "Epoch 25/160\n",
      "1020/1020 [==============================] - 0s 211us/sample - loss: 0.0723 - mse: 0.0723\n",
      "Epoch 26/160\n",
      "1020/1020 [==============================] - 0s 341us/sample - loss: 0.0704 - mse: 0.0704\n",
      "Epoch 27/160\n",
      "1020/1020 [==============================] - 0s 347us/sample - loss: 0.0571 - mse: 0.0571\n",
      "Epoch 28/160\n",
      "1020/1020 [==============================] - 0s 306us/sample - loss: 0.0929 - mse: 0.0929\n",
      "Epoch 29/160\n",
      "1020/1020 [==============================] - 0s 324us/sample - loss: 0.0704 - mse: 0.0704\n",
      "Epoch 30/160\n",
      "1020/1020 [==============================] - 0s 361us/sample - loss: 0.0702 - mse: 0.0702\n",
      "Epoch 31/160\n",
      "1020/1020 [==============================] - 0s 229us/sample - loss: 0.0590 - mse: 0.0590\n",
      "Epoch 32/160\n",
      "1020/1020 [==============================] - 0s 267us/sample - loss: 0.0694 - mse: 0.0694\n",
      "Epoch 33/160\n",
      "1020/1020 [==============================] - 0s 303us/sample - loss: 0.0697 - mse: 0.0697\n",
      "Epoch 34/160\n",
      "1020/1020 [==============================] - 0s 408us/sample - loss: 0.0554 - mse: 0.0554\n",
      "Epoch 35/160\n",
      "1020/1020 [==============================] - 0s 311us/sample - loss: 0.0557 - mse: 0.0557\n",
      "Epoch 36/160\n",
      "1020/1020 [==============================] - 0s 286us/sample - loss: 0.0760 - mse: 0.0760\n",
      "Epoch 37/160\n",
      "1020/1020 [==============================] - 0s 380us/sample - loss: 0.0637 - mse: 0.0637\n",
      "Epoch 38/160\n",
      "1020/1020 [==============================] - 0s 404us/sample - loss: 0.0562 - mse: 0.0562\n",
      "Epoch 39/160\n",
      "1020/1020 [==============================] - 0s 396us/sample - loss: 0.0526 - mse: 0.0526\n",
      "Epoch 40/160\n",
      "1020/1020 [==============================] - 0s 372us/sample - loss: 0.0464 - mse: 0.0464\n",
      "Epoch 41/160\n",
      "1020/1020 [==============================] - 0s 256us/sample - loss: 0.0568 - mse: 0.0568\n",
      "Epoch 42/160\n",
      "1020/1020 [==============================] - 0s 277us/sample - loss: 0.0458 - mse: 0.0458\n",
      "Epoch 43/160\n",
      "1020/1020 [==============================] - 0s 254us/sample - loss: 0.0480 - mse: 0.0480\n",
      "Epoch 44/160\n",
      "1020/1020 [==============================] - 0s 243us/sample - loss: 0.0468 - mse: 0.0468\n",
      "Epoch 45/160\n",
      "1020/1020 [==============================] - 0s 223us/sample - loss: 0.0853 - mse: 0.0853\n",
      "Epoch 46/160\n",
      "1020/1020 [==============================] - 0s 229us/sample - loss: 0.0519 - mse: 0.0519\n",
      "Epoch 47/160\n",
      "1020/1020 [==============================] - 0s 275us/sample - loss: 0.0442 - mse: 0.0442\n",
      "Epoch 48/160\n",
      "1020/1020 [==============================] - 0s 292us/sample - loss: 0.0484 - mse: 0.0484\n",
      "Epoch 49/160\n",
      "1020/1020 [==============================] - 0s 359us/sample - loss: 0.0462 - mse: 0.0462\n",
      "Epoch 50/160\n",
      "1020/1020 [==============================] - 0s 335us/sample - loss: 0.0603 - mse: 0.0603\n",
      "Epoch 51/160\n",
      "1020/1020 [==============================] - 0s 336us/sample - loss: 0.0496 - mse: 0.0496\n",
      "Epoch 52/160\n",
      "1020/1020 [==============================] - 0s 243us/sample - loss: 0.0458 - mse: 0.0458\n",
      "Epoch 53/160\n",
      "1020/1020 [==============================] - 0s 249us/sample - loss: 0.0600 - mse: 0.0600\n",
      "Epoch 54/160\n",
      "1020/1020 [==============================] - 0s 363us/sample - loss: 0.0473 - mse: 0.0473\n",
      "Epoch 55/160\n",
      "1020/1020 [==============================] - 0s 376us/sample - loss: 0.0517 - mse: 0.0517\n",
      "Epoch 56/160\n",
      "1020/1020 [==============================] - 0s 267us/sample - loss: 0.0376 - mse: 0.0376\n",
      "Epoch 57/160\n",
      "1020/1020 [==============================] - 0s 357us/sample - loss: 0.0476 - mse: 0.0476s - loss: 0.0408 - mse: \n",
      "Epoch 58/160\n",
      "1020/1020 [==============================] - 0s 318us/sample - loss: 0.0390 - mse: 0.0390\n",
      "Epoch 59/160\n",
      "1020/1020 [==============================] - 0s 305us/sample - loss: 0.0483 - mse: 0.0483\n",
      "Epoch 60/160\n",
      "1020/1020 [==============================] - 0s 282us/sample - loss: 0.0527 - mse: 0.0527\n",
      "Epoch 61/160\n",
      "1020/1020 [==============================] - 0s 277us/sample - loss: 0.0396 - mse: 0.0396\n",
      "Epoch 62/160\n",
      "1020/1020 [==============================] - 0s 271us/sample - loss: 0.0380 - mse: 0.0380\n",
      "Epoch 63/160\n",
      "1020/1020 [==============================] - 0s 277us/sample - loss: 0.0368 - mse: 0.0368s - loss: 0.0397 - mse: 0.\n",
      "Epoch 64/160\n",
      "1020/1020 [==============================] - 0s 284us/sample - loss: 0.0426 - mse: 0.0426\n",
      "Epoch 65/160\n",
      "1020/1020 [==============================] - 0s 267us/sample - loss: 0.0430 - mse: 0.0430\n",
      "Epoch 66/160\n",
      "1020/1020 [==============================] - 0s 234us/sample - loss: 0.0394 - mse: 0.0394\n",
      "Epoch 67/160\n",
      "1020/1020 [==============================] - 0s 239us/sample - loss: 0.0398 - mse: 0.0398\n",
      "Epoch 68/160\n",
      "1020/1020 [==============================] - 0s 277us/sample - loss: 0.0359 - mse: 0.0359\n",
      "Epoch 69/160\n",
      "1020/1020 [==============================] - ETA: 0s - loss: 0.0388 - mse: 0.038 - 0s 230us/sample - loss: 0.0385 - mse: 0.0385\n",
      "Epoch 70/160\n",
      "1020/1020 [==============================] - 0s 243us/sample - loss: 0.0616 - mse: 0.0616\n",
      "Epoch 71/160\n",
      "1020/1020 [==============================] - 0s 241us/sample - loss: 0.0394 - mse: 0.0394\n",
      "Epoch 72/160\n",
      "1020/1020 [==============================] - 0s 234us/sample - loss: 0.0381 - mse: 0.0381\n",
      "Epoch 73/160\n",
      "1020/1020 [==============================] - 0s 231us/sample - loss: 0.0405 - mse: 0.0405\n",
      "Epoch 74/160\n",
      "1020/1020 [==============================] - 0s 266us/sample - loss: 0.0334 - mse: 0.0334\n",
      "Epoch 75/160\n",
      "1020/1020 [==============================] - 0s 245us/sample - loss: 0.0382 - mse: 0.0382\n",
      "Epoch 76/160\n",
      "1020/1020 [==============================] - 0s 270us/sample - loss: 0.0362 - mse: 0.0362\n",
      "Epoch 77/160\n",
      "1020/1020 [==============================] - 0s 239us/sample - loss: 0.0519 - mse: 0.0519\n",
      "Epoch 78/160\n",
      "1020/1020 [==============================] - 0s 259us/sample - loss: 0.0456 - mse: 0.0456\n",
      "Epoch 79/160\n",
      "1020/1020 [==============================] - 0s 283us/sample - loss: 0.0413 - mse: 0.0413\n",
      "Epoch 80/160\n",
      "1020/1020 [==============================] - 0s 231us/sample - loss: 0.0514 - mse: 0.0514\n",
      "Epoch 81/160\n",
      "1020/1020 [==============================] - 0s 230us/sample - loss: 0.0422 - mse: 0.0422\n",
      "Epoch 82/160\n",
      "1020/1020 [==============================] - 0s 227us/sample - loss: 0.0442 - mse: 0.0442\n",
      "Epoch 83/160\n",
      "1020/1020 [==============================] - 0s 236us/sample - loss: 0.0348 - mse: 0.0348\n",
      "Epoch 84/160\n",
      "1020/1020 [==============================] - 0s 246us/sample - loss: 0.0345 - mse: 0.0345\n",
      "Epoch 85/160\n",
      "1020/1020 [==============================] - 0s 247us/sample - loss: 0.0362 - mse: 0.0362\n",
      "Epoch 86/160\n",
      "1020/1020 [==============================] - 0s 218us/sample - loss: 0.0464 - mse: 0.0464\n",
      "Epoch 87/160\n",
      "1020/1020 [==============================] - 0s 236us/sample - loss: 0.0353 - mse: 0.0353\n",
      "Epoch 88/160\n",
      "1020/1020 [==============================] - 0s 242us/sample - loss: 0.0423 - mse: 0.0423\n",
      "Epoch 89/160\n",
      "1020/1020 [==============================] - 0s 234us/sample - loss: 0.0350 - mse: 0.0350\n",
      "Epoch 90/160\n",
      "1020/1020 [==============================] - 0s 252us/sample - loss: 0.0480 - mse: 0.0480\n",
      "Epoch 91/160\n",
      "1020/1020 [==============================] - 0s 223us/sample - loss: 0.0415 - mse: 0.0415\n",
      "Epoch 92/160\n",
      "1020/1020 [==============================] - 0s 247us/sample - loss: 0.0351 - mse: 0.0351\n",
      "Epoch 93/160\n",
      "1020/1020 [==============================] - 0s 237us/sample - loss: 0.0563 - mse: 0.0563\n",
      "Epoch 94/160\n",
      "1020/1020 [==============================] - 0s 316us/sample - loss: 0.0401 - mse: 0.0401\n",
      "Epoch 95/160\n",
      "1020/1020 [==============================] - 0s 377us/sample - loss: 0.0407 - mse: 0.0407\n",
      "Epoch 96/160\n",
      "1020/1020 [==============================] - 0s 347us/sample - loss: 0.0380 - mse: 0.0380\n",
      "Epoch 97/160\n",
      "1020/1020 [==============================] - 0s 339us/sample - loss: 0.0331 - mse: 0.0331\n",
      "Epoch 98/160\n",
      "1020/1020 [==============================] - 0s 351us/sample - loss: 0.0300 - mse: 0.0300\n",
      "Epoch 99/160\n",
      "1020/1020 [==============================] - 0s 360us/sample - loss: 0.0327 - mse: 0.0327\n",
      "Epoch 100/160\n",
      "1020/1020 [==============================] - 0s 316us/sample - loss: 0.0484 - mse: 0.0484\n",
      "Epoch 101/160\n",
      "1020/1020 [==============================] - 0s 297us/sample - loss: 0.0299 - mse: 0.0299\n",
      "Epoch 102/160\n",
      "1020/1020 [==============================] - 0s 272us/sample - loss: 0.0394 - mse: 0.0394\n",
      "Epoch 103/160\n",
      "1020/1020 [==============================] - 0s 374us/sample - loss: 0.0354 - mse: 0.0354\n",
      "Epoch 104/160\n",
      "1020/1020 [==============================] - 0s 294us/sample - loss: 0.0360 - mse: 0.0360\n",
      "Epoch 105/160\n",
      "1020/1020 [==============================] - 0s 327us/sample - loss: 0.0342 - mse: 0.0342\n",
      "Epoch 106/160\n",
      "1020/1020 [==============================] - 0s 361us/sample - loss: 0.0528 - mse: 0.0528\n",
      "Epoch 107/160\n",
      "1020/1020 [==============================] - 0s 280us/sample - loss: 0.0306 - mse: 0.0306\n",
      "Epoch 108/160\n",
      "1020/1020 [==============================] - 0s 307us/sample - loss: 0.0263 - mse: 0.0263s - loss: 0.0226 - mse: 0.0\n",
      "Epoch 109/160\n",
      "1020/1020 [==============================] - 0s 292us/sample - loss: 0.0299 - mse: 0.0299\n",
      "Epoch 110/160\n",
      "1020/1020 [==============================] - 0s 306us/sample - loss: 0.0374 - mse: 0.0374\n",
      "Epoch 111/160\n",
      "1020/1020 [==============================] - 0s 326us/sample - loss: 0.0352 - mse: 0.0352\n",
      "Epoch 112/160\n",
      "1020/1020 [==============================] - 0s 264us/sample - loss: 0.0295 - mse: 0.0295\n",
      "Epoch 113/160\n",
      "1020/1020 [==============================] - 0s 287us/sample - loss: 0.0278 - mse: 0.0278\n",
      "Epoch 114/160\n",
      "1020/1020 [==============================] - 0s 223us/sample - loss: 0.0382 - mse: 0.0382\n",
      "Epoch 115/160\n",
      "1020/1020 [==============================] - 0s 222us/sample - loss: 0.0489 - mse: 0.0489\n",
      "Epoch 116/160\n",
      "1020/1020 [==============================] - 0s 256us/sample - loss: 0.0307 - mse: 0.0307\n",
      "Epoch 117/160\n",
      "1020/1020 [==============================] - 0s 228us/sample - loss: 0.0326 - mse: 0.0326\n",
      "Epoch 118/160\n",
      "1020/1020 [==============================] - 0s 235us/sample - loss: 0.0341 - mse: 0.0341\n",
      "Epoch 119/160\n",
      "1020/1020 [==============================] - 0s 262us/sample - loss: 0.0357 - mse: 0.0357\n",
      "Epoch 120/160\n",
      "1020/1020 [==============================] - 0s 225us/sample - loss: 0.0574 - mse: 0.0574\n",
      "Epoch 121/160\n",
      "1020/1020 [==============================] - 0s 332us/sample - loss: 0.0344 - mse: 0.0344\n",
      "Epoch 122/160\n",
      "1020/1020 [==============================] - 0s 279us/sample - loss: 0.0534 - mse: 0.0534\n",
      "Epoch 123/160\n",
      "1020/1020 [==============================] - 0s 294us/sample - loss: 0.0352 - mse: 0.0352\n",
      "Epoch 124/160\n",
      "1020/1020 [==============================] - 0s 290us/sample - loss: 0.0336 - mse: 0.0336\n",
      "Epoch 125/160\n",
      "1020/1020 [==============================] - 0s 309us/sample - loss: 0.0372 - mse: 0.0372\n",
      "Epoch 126/160\n",
      "1020/1020 [==============================] - 0s 235us/sample - loss: 0.0318 - mse: 0.0318\n",
      "Epoch 127/160\n",
      "1020/1020 [==============================] - 0s 253us/sample - loss: 0.0306 - mse: 0.0306\n",
      "Epoch 128/160\n",
      "1020/1020 [==============================] - 0s 302us/sample - loss: 0.0272 - mse: 0.0272\n",
      "Epoch 129/160\n",
      "1020/1020 [==============================] - 0s 243us/sample - loss: 0.0366 - mse: 0.0366\n",
      "Epoch 130/160\n",
      "1020/1020 [==============================] - 0s 288us/sample - loss: 0.0305 - mse: 0.0305\n",
      "Epoch 131/160\n",
      "1020/1020 [==============================] - 0s 274us/sample - loss: 0.0346 - mse: 0.0346\n",
      "Epoch 132/160\n",
      "1020/1020 [==============================] - 0s 291us/sample - loss: 0.0305 - mse: 0.0305\n",
      "Epoch 133/160\n",
      "1020/1020 [==============================] - 0s 278us/sample - loss: 0.0296 - mse: 0.0296\n",
      "Epoch 134/160\n",
      "1020/1020 [==============================] - 0s 342us/sample - loss: 0.0308 - mse: 0.0308\n",
      "Epoch 135/160\n",
      "1020/1020 [==============================] - 0s 320us/sample - loss: 0.0284 - mse: 0.0284\n",
      "Epoch 136/160\n",
      "1020/1020 [==============================] - 0s 281us/sample - loss: 0.0572 - mse: 0.0572\n",
      "Epoch 137/160\n",
      "1020/1020 [==============================] - 0s 288us/sample - loss: 0.0368 - mse: 0.0368\n",
      "Epoch 138/160\n",
      "1020/1020 [==============================] - 0s 288us/sample - loss: 0.0288 - mse: 0.0288\n",
      "Epoch 139/160\n",
      "1020/1020 [==============================] - 0s 278us/sample - loss: 0.0320 - mse: 0.0320\n",
      "Epoch 140/160\n",
      "1020/1020 [==============================] - 0s 271us/sample - loss: 0.0317 - mse: 0.0317\n",
      "Epoch 141/160\n",
      "1020/1020 [==============================] - 0s 263us/sample - loss: 0.0313 - mse: 0.0313\n",
      "Epoch 142/160\n",
      "1020/1020 [==============================] - 0s 228us/sample - loss: 0.0271 - mse: 0.0271\n",
      "Epoch 143/160\n",
      "1020/1020 [==============================] - 0s 317us/sample - loss: 0.0420 - mse: 0.0420\n",
      "Epoch 144/160\n",
      "1020/1020 [==============================] - 0s 246us/sample - loss: 0.0273 - mse: 0.0273\n",
      "Epoch 145/160\n",
      "1020/1020 [==============================] - 0s 239us/sample - loss: 0.0236 - mse: 0.0236\n",
      "Epoch 146/160\n",
      "1020/1020 [==============================] - 0s 240us/sample - loss: 0.0270 - mse: 0.0270\n",
      "Epoch 147/160\n",
      "1020/1020 [==============================] - 0s 269us/sample - loss: 0.0233 - mse: 0.0233\n",
      "Epoch 148/160\n",
      "1020/1020 [==============================] - 0s 326us/sample - loss: 0.0281 - mse: 0.0281\n",
      "Epoch 149/160\n",
      "1020/1020 [==============================] - 0s 413us/sample - loss: 0.0246 - mse: 0.0246\n",
      "Epoch 150/160\n",
      "1020/1020 [==============================] - 0s 375us/sample - loss: 0.0306 - mse: 0.0306\n",
      "Epoch 151/160\n",
      "1020/1020 [==============================] - 0s 347us/sample - loss: 0.0293 - mse: 0.0293\n",
      "Epoch 152/160\n",
      "1020/1020 [==============================] - 0s 387us/sample - loss: 0.0266 - mse: 0.0266\n",
      "Epoch 153/160\n",
      "1020/1020 [==============================] - 0s 308us/sample - loss: 0.0314 - mse: 0.0314\n",
      "Epoch 154/160\n",
      "1020/1020 [==============================] - 0s 388us/sample - loss: 0.0240 - mse: 0.0240\n",
      "Epoch 155/160\n",
      "1020/1020 [==============================] - 0s 374us/sample - loss: 0.0464 - mse: 0.0464\n",
      "Epoch 156/160\n",
      "1020/1020 [==============================] - 0s 277us/sample - loss: 0.0265 - mse: 0.0265\n",
      "Epoch 157/160\n"
     ]
    },
    {
     "name": "stdout",
     "output_type": "stream",
     "text": [
      "1020/1020 [==============================] - 0s 316us/sample - loss: 0.0347 - mse: 0.0347s - loss: 0.0292 - mse: 0\n",
      "Epoch 158/160\n",
      "1020/1020 [==============================] - 0s 282us/sample - loss: 0.0305 - mse: 0.0305\n",
      "Epoch 159/160\n",
      "1020/1020 [==============================] - 0s 327us/sample - loss: 0.0249 - mse: 0.0249\n",
      "Epoch 160/160\n",
      "1020/1020 [==============================] - 0s 278us/sample - loss: 0.0236 - mse: 0.0236\n"
     ]
    },
    {
     "data": {
      "text/plain": [
       "<tensorflow.python.keras.callbacks.History at 0x2357e951c48>"
      ]
     },
     "execution_count": 66,
     "metadata": {},
     "output_type": "execute_result"
    }
   ],
   "source": [
    "# Run the model\n",
    "model.fit(X_train, y_train, epochs = 160, batch_size=10)"
   ]
  },
  {
   "cell_type": "code",
   "execution_count": 86,
   "metadata": {},
   "outputs": [
    {
     "name": "stdout",
     "output_type": "stream",
     "text": [
      "438/438 [==============================] - 0s 36us/sample - loss: 0.0414 - mse: 0.0414\n"
     ]
    },
    {
     "data": {
      "text/plain": [
       "0.04142204"
      ]
     },
     "execution_count": 86,
     "metadata": {},
     "output_type": "execute_result"
    }
   ],
   "source": [
    "model.evaluate(X_test, y_test)[1]"
   ]
  },
  {
   "cell_type": "code",
   "execution_count": 67,
   "metadata": {},
   "outputs": [],
   "source": [
    "# Importing cross vaidation\n",
    "from sklearn.model_selection import cross_validate\n",
    "cv_result_ls = cross_validate(ls, X, y, cv=10, return_train_score = True)\n",
    "cv_result_xgb = cross_validate(xgb, x_p, y, cv=10, return_train_score = True)\n",
    "cv_result_lr = cross_validate(lr, x_p, y, cv=10, return_train_score = True)\n",
    "cv_result_rfr = cross_validate(rfr, x_p, y, cv=10, return_train_score = True)\n",
    "cv_result_rfr = cross_validate(model, x_p, y, cv=10, return_train_score = True)"
   ]
  },
  {
   "cell_type": "code",
   "execution_count": 68,
   "metadata": {},
   "outputs": [],
   "source": [
    "# Get average of results\n",
    "\n",
    "ls_test_average = np.average(cv_result_ls['test_score'])\n",
    "xgb_test_average = np.average(cv_result_xgb['test_score'])\n",
    "lr_test_average = np.average(cv_result_lr['test_score'])\n",
    "rfr_test_average = np.average(cv_result_rfr['test_score'])\n",
    "\n",
    "\n",
    "ls_train_average = np.average(cv_result_ls['train_score'])\n",
    "xgb_train_average = np.average(cv_result_xgb['train_score'])\n",
    "lr_train_average = np.average(cv_result_lr['train_score'])\n",
    "rfr_train_average = np.average(cv_result_rfr['train_score'])"
   ]
  },
  {
   "cell_type": "code",
   "execution_count": 69,
   "metadata": {},
   "outputs": [
    {
     "name": "stdout",
     "output_type": "stream",
     "text": [
      "\n",
      "          LassoReg           XGBoost          LinearReg.          RandomForestReg.    \n",
      "          --------           -------           ------              -------\n",
      "Test  :  0.9203              0.907             0.9093              0.8773\n",
      "Train :  0.9437              0.9589            0.9471              0.9831\n"
     ]
    }
   ],
   "source": [
    "print()\n",
    "print('    ','     LassoReg      ', '    XGBoost    ','     LinearReg.    ', '     RandomForestReg.    ')\n",
    "print('    ','     --------', '          -------','          ------', '             -------')\n",
    "print('Test  : ',\n",
    "     round(ls_test_average, 4), '            ',\n",
    "     round(xgb_test_average, 4), '           ',\n",
    "     round(lr_test_average, 4), '            ',\n",
    "     round(rfr_test_average, 4))\n",
    "print('Train : ',\n",
    "     round(ls_train_average, 4), '            ',\n",
    "     round(xgb_train_average, 4), '          ',\n",
    "     round(lr_train_average, 4), '            ',\n",
    "     round(rfr_train_average, 4))"
   ]
  },
  {
   "cell_type": "code",
   "execution_count": null,
   "metadata": {},
   "outputs": [],
   "source": []
  }
 ],
 "metadata": {
  "kernelspec": {
   "display_name": "Python 3",
   "language": "python",
   "name": "python3"
  },
  "language_info": {
   "codemirror_mode": {
    "name": "ipython",
    "version": 3
   },
   "file_extension": ".py",
   "mimetype": "text/x-python",
   "name": "python",
   "nbconvert_exporter": "python",
   "pygments_lexer": "ipython3",
   "version": "3.7.6"
  }
 },
 "nbformat": 4,
 "nbformat_minor": 2
}
